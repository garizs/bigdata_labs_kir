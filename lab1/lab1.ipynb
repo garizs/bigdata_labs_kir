{
 "cells": [
  {
   "cell_type": "markdown",
   "id": "1df4915b",
   "metadata": {
    "tags": []
   },
   "source": [
    "![zebrains_logo](../../images/logo-zebrains-dark.svg)\n",
    "## Кафедра «Интеллектуальных технологий в информационных системах»"
   ]
  },
  {
   "cell_type": "markdown",
   "id": "60f5fce6",
   "metadata": {},
   "source": [
    "# Лабораторная работа 1: Git, Git LFS"
   ]
  },
  {
   "cell_type": "code",
   "execution_count": 7,
   "id": "e9dbea14-7a50-49f9-9c34-5e2e897d6964",
   "metadata": {
    "jupyter": {
     "source_hidden": true
    },
    "tags": []
   },
   "outputs": [],
   "source": [
    "#imports\n",
    "!pip install ipywidgets==7.6.4 --quiet\n",
    "from ipywidgets import FileUpload, Image, HBox"
   ]
  },
  {
   "cell_type": "code",
   "execution_count": 8,
   "id": "dc5957a9-b47e-4d52-b150-a5fed30b66d4",
   "metadata": {
    "jupyter": {
     "source_hidden": true
    },
    "tags": []
   },
   "outputs": [],
   "source": [
    "def display_uploaded_screenshots(screenshots):\n",
    "\n",
    "    images = [Image(value=i) for i in screenshots]\n",
    "    ## Side by side thanks to HBox widgets\n",
    "    sidebyside = HBox(images)\n",
    "    ## Finally, show.\n",
    "    display(sidebyside)"
   ]
  },
  {
   "cell_type": "markdown",
   "id": "a426e5cd",
   "metadata": {},
   "source": [
    "В данной лабораторной работе вы научитесь пользоваться:\n",
    "* Системой контроля версий (VCS - version control system) **Git**\n",
    "* Расширением **Git LFS** (Large File Storage), позволяющее версионировать большие файлы вместе с кодом"
   ]
  },
  {
   "cell_type": "markdown",
   "id": "f8db50f9",
   "metadata": {},
   "source": [
    "# Git\n",
    "![git_logo](../../images/Git_icon.svg)"
   ]
  },
  {
   "cell_type": "markdown",
   "id": "bfeaa239",
   "metadata": {},
   "source": [
    "**Git** – это распределенная система контроля версий (version control system – VCS).\n",
    "\n",
    "**Контроль версий** означает что вы храните все версии редактируемых документов и можете вернуться к любой сохраненной версии в любой момент времени. Кажется, будто такой подход популярен только среди программистов, но на деле им пользуются, например, дизайнеры и другие люди, несколько более подкованные технически, чтобы контролировать изменения в работе.\n",
    "\n",
    "**Распределенность** git’а отличает его от прочих vcs. Под распределенностью следует понимать, буквально, возможность использования одной системы контроля на проекте множеством разработчиков."
   ]
  },
  {
   "cell_type": "markdown",
   "id": "ae4e43c1",
   "metadata": {},
   "source": [
    "*В папке с лабой вы найдете .pdf с основными командами.*\n",
    "\n",
    "*Можно было бы в удобном виде оставить список команд в этом ноутбуке, а потом просто копировать их в консоль. Но в целях лучшего запоминания лучше вводить эти команды самим.*"
   ]
  },
  {
   "cell_type": "markdown",
   "id": "05930ee6",
   "metadata": {},
   "source": [
    "## Задание:\n",
    "**Пройти уроки с сайта https://learngitbranching.js.org/?locale=ru_RU**\n",
    "\n",
    "Если застряли на каком-то уроке - можете воспользоваться pdf шпаргалкой.\n",
    "\n",
    "Не оставляйте выполнение это лабораторной на потом. Почти все остальные лабораторные потребуют от вас знаний Git'а. \n",
    "\n",
    "У вас будут совместные проекты, где потребуется версионировать изменения. Если вы будете вести историю репозитория не аккуратно, писать сообщения к комитам от балды и т.п. - это усложнит работу как вам, так и остальным членам команды. \n",
    "\n",
    "Старайтесь вести историю в Гите так, будто завтра же уходите в отпуск, оставляя свою работу коллегам."
   ]
  },
  {
   "cell_type": "markdown",
   "id": "3ee47f38-8e53-4218-a25c-0d6d273fc3f5",
   "metadata": {},
   "source": [
    "**Отчет**\n",
    "\n",
    "Прикрепите следующие скриншоты прямо внутри ноутбука.\n",
    "\n",
    "1. Результат команды\n",
    "``` bash\n",
    "conda list\n",
    "```\n",
    "2. Результат команды\n",
    "``` bash\n",
    "git branch -a\n",
    "```\n",
    "3. Результат команды\n",
    "``` bash\n",
    "git remote show origin\n",
    "```\n",
    "4. Скриншоты двух страниц с сайта *learngitbranching.js.org*. (Когда вы проходите урок - ячейка окрашивается)"
   ]
  },
  {
   "cell_type": "code",
   "execution_count": 9,
   "id": "b2976ed3-524b-4b70-b9e5-710126101334",
   "metadata": {},
   "outputs": [
    {
     "data": {
      "application/vnd.jupyter.widget-view+json": {
       "model_id": "3531482b582c4215bb0b8298d4e42668",
       "version_major": 2,
       "version_minor": 0
      },
      "text/plain": [
       "FileUpload(value={}, accept='image/*', description='Upload', multiple=True)"
      ]
     },
     "metadata": {},
     "output_type": "display_data"
    }
   ],
   "source": [
    "# Прикрепите файлы с изображениями\n",
    "uploader = FileUpload(accept = 'image/*', multiple = True)\n",
    "display(uploader)"
   ]
  },
  {
   "cell_type": "code",
   "execution_count": 10,
   "id": "b1bbf8b5-df9a-499e-b6a8-5961cbe18fb8",
   "metadata": {
    "tags": []
   },
   "outputs": [
    {
     "data": {
      "application/vnd.jupyter.widget-view+json": {
       "model_id": "37777181e84f4e7f9b92c00470a7a0f0",
       "version_major": 2,
       "version_minor": 0
      },
      "text/plain": [
       "HBox(children=(Image(value=b'\\x89PNG\\r\\n\\x1a\\n\\x00\\x00\\x00\\rIHDR\\x00\\x00\\x02\\xf3\\x00\\x00\\x00A\\x08\\x06\\x00\\x00\\…"
      ]
     },
     "metadata": {},
     "output_type": "display_data"
    }
   ],
   "source": [
    "# Отобразит скриншоты. Вверху скрытая под тремя точками ячейка с функцией для отображения. Можете что-нибудь там поменять, если вам не нравится вывод. \n",
    "display_uploaded_screenshots(uploader.data)"
   ]
  },
  {
   "cell_type": "markdown",
   "id": "2ebf182a",
   "metadata": {
    "tags": []
   },
   "source": [
    "## Полезные ссылки\n",
    "* https://githowto.com/ru Еще один интерактивный курс. Проходить не обязательно. Но для закрепления желательно.\n",
    "* https://git-scm.com/book/ru/v2 Git Book на русском"
   ]
  },
  {
   "cell_type": "markdown",
   "id": "3da52f0a",
   "metadata": {},
   "source": [
    "# Git LFS\n",
    "![git_logo](https://avatars.githubusercontent.com/u/20246716?s=200&v=4)"
   ]
  },
  {
   "cell_type": "markdown",
   "id": "cea27de1",
   "metadata": {},
   "source": [
    "**Git LFS** - это расширение для Git'а, позволяющее версионировать большие данные. Данные хранятся и версионируются вместе с кодом.\n",
    "\n",
    "Подробнее можете прочитать здесь:\n",
    "* https://git-lfs.github.com/\n",
    "* https://www.atlassian.com/git/tutorials/git-lfs"
   ]
  },
  {
   "cell_type": "markdown",
   "id": "ce814f1c",
   "metadata": {},
   "source": [
    "<a id='git_lfs_cell'></a>\n",
    "<img src=\"../../images/git_lfs.gif\" alt=\"drawing\" width=\"600\"/>"
   ]
  },
  {
   "cell_type": "markdown",
   "id": "41e711bd",
   "metadata": {},
   "source": [
    "Не все хостинги поддерживают Git LFS. \n",
    "Для удобства мы пока будем использовать Github. Возможно, следующие лабы будут на Gitlab'е. Там больше квота для хранения данных."
   ]
  },
  {
   "cell_type": "markdown",
   "id": "26ecf411",
   "metadata": {},
   "source": [
    "## Задание\n",
    "**Залейте на удаленнный репозиторий изменения, используя Git LFS для индексации больших данных**\n",
    "1. Установите git-lfs. Например, используя менеджер пакетов в Ubuntu\\Deb: \n",
    "```bash\n",
    "sudo apt-get install git-lfs\n",
    "```\n",
    "2. Запустите следующую команду. Ее потребуется запустить лишь однажды, для каждого юзера в системе. \n",
    "```bashlearngitbranching.js.org\n",
    "git lfs install\n",
    "```\n",
    "3. Создайте репозиторий или перейдите в уже готовый.\n",
    "Если у вас нет \"большого\" файла для теста - можете создать файл(ы) фиксированного размера с помощью команды:\n",
    "```bash\n",
    "truncate -s 10M ten_megabyte_file.txt\n",
    "```\n",
    "4. Теперь нужно создать правило для слежения за большими файлами. Например, мы тренируем нейронку и храним картинки\\звук\\таблички и т.п. в папке Data. Тогда пропишем\n",
    "```bash\n",
    "git lfs track Data\n",
    "```\n",
    "Или мы знаем, что все наши таблички с данными будут в формате CSV. В таком случае можно использовать такую команду:\n",
    "```bash\n",
    "git lfs track \"*.csv\"\n",
    "```\n",
    "5. Убедитесь, что ваши большие данные не были предварительно исключены из индексации Гитом в файле .gitignore\n",
    "```bash\n",
    "git check-ignore -v *\n",
    "```\n",
    "Если вы видите правило, которое заставляет Гит игнорировать ваши большие данные - отредактируйте файл.\n",
    "\n",
    "6. Убедимся, что файл с правилами для Git LFS индексируется. Добавим его.\n",
    "```bash\n",
    "git add .gitattributes\n",
    "```\n",
    "7. Теперь всё готово. Просто работайте с файлами так, как это делали раньше. Например:\n",
    "```bash\n",
    "git add Data\n",
    "git commit -m \"added Data\"\n",
    "git push\n",
    "```"
   ]
  },
  {
   "cell_type": "markdown",
   "id": "368d5395-7def-4661-9c86-cadc22ef3b25",
   "metadata": {},
   "source": [
    "**Отчет**\n",
    "\n",
    "Прикрепите следующие скриншоты прямо внутри ноутбука.\n",
    "\n",
    "1. Результат команды\n",
    "``` bash\n",
    "git lfs status\n",
    "```\n",
    "2. Результат команды\n",
    "``` bash\n",
    "git lfs ls-files --all\n",
    "```\n",
    "3. Самостоятельно удалить большой файл и запушить изменения\n",
    "4. Удалить правила для ЛФС, которые мы создавали (P.S. команда untrack)\n",
    "5. Результат команды\n",
    "``` bash\n",
    "git lfs status\n",
    "```\n",
    "6. Результат команды\n",
    "``` bash\n",
    "git lfs ls-files --all\n",
    "```\n",
    "\n",
    "\n",
    "И запушьте изменения.\n"
   ]
  },
  {
   "cell_type": "code",
   "execution_count": 11,
   "id": "3198b3fd-bca9-42b5-865f-b5c425dc6264",
   "metadata": {},
   "outputs": [
    {
     "data": {
      "application/vnd.jupyter.widget-view+json": {
       "model_id": "35493b16c9964dca8543a2656769371f",
       "version_major": 2,
       "version_minor": 0
      },
      "text/plain": [
       "FileUpload(value={}, accept='image/*', description='Upload', multiple=True)"
      ]
     },
     "metadata": {},
     "output_type": "display_data"
    }
   ],
   "source": [
    "uploader = FileUpload(accept = 'image/*', multiple = True)\n",
    "display(uploader)"
   ]
  },
  {
   "cell_type": "code",
   "execution_count": 12,
   "id": "aec0c93d-474e-4d3f-b3d0-1ef31dd84d1d",
   "metadata": {
    "tags": []
   },
   "outputs": [
    {
     "data": {
      "application/vnd.jupyter.widget-view+json": {
       "model_id": "1b7694c84205410982c78b0bae9017a9",
       "version_major": 2,
       "version_minor": 0
      },
      "text/plain": [
       "HBox(children=(Image(value=b'\\x89PNG\\r\\n\\x1a\\n\\x00\\x00\\x00\\rIHDR\\x00\\x00\\x02\\xf3\\x00\\x00\\x00A\\x08\\x06\\x00\\x00\\…"
      ]
     },
     "metadata": {},
     "output_type": "display_data"
    }
   ],
   "source": [
    "display_uploaded_screenshots(uploader.data)"
   ]
  },
  {
   "cell_type": "code",
   "execution_count": null,
   "id": "8d9150d2",
   "metadata": {},
   "outputs": [],
   "source": []
  }
 ],
 "metadata": {
  "kernelspec": {
   "display_name": "Python 3 (ipykernel)",
   "language": "python",
   "name": "python3"
  },
  "language_info": {
   "codemirror_mode": {
    "name": "ipython",
    "version": 3
   },
   "file_extension": ".py",
   "mimetype": "text/x-python",
   "name": "python",
   "nbconvert_exporter": "python",
   "pygments_lexer": "ipython3",
   "version": "3.8.12"
  }
 },
 "nbformat": 4,
 "nbformat_minor": 5
}
